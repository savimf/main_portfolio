{
 "cells": [
  {
   "cell_type": "markdown",
   "metadata": {},
   "source": [
    "### Retornos\n",
    "\n",
    "O retorno $r_{t_0, t_1}$ de um ativo entre o período $t_0$ e $t_1$ dá-se por $r_{t_0, t_1} = \\frac{P_{t_1} - P_{t_0}}{P_{t_0}},$ onde $P_t$ é o preço do ativo no tempo $t$. O numerador $P_{t_1} - P_{t_0}$ é comumente chamado de lucro/perda, enquanto o denominador $P_{t_0}$ é chamado de custo. (Na presença de dividendos, estes devem ser inclusos no cálculo do retorno; caso contrário, estamos falando apenas do retorno de preços.)\n",
    "\n",
    "Para efeitos práticos, é mais interessante falarmos sobre o *retorno acumulado*: $R_{t_0, t_1} = 1 + r_{t_0, t_1}$. Por exemplo, dado um retorno de 30%, temos um retorno acumulado de 130%.\n",
    "\n",
    "**Multi-Períodos**\n",
    "\n",
    "Para o cálculo do retorno sobre um período composto, por exemplo, de $t_0 \\to t_1$, e de $t_1 \\to t_2$, realizamos a composição $$R_{t_0, t_2} = (1 + R_{t_0, t_1})(1 + R_{t_1, t_2}) - 1$$, pois o segundo retorno tem como preço base o resultado do retorno inicial. Ex: compramos uma ação que nos retornou 10% no primeiro dia e -3% no segundo. O retorno total é: (1 + 0.1)(1 - 0.03) - 1 = 0.067.\n",
    "\n",
    "### Métricas de Risco\n",
    "- *Volatilidade* ($\\sigma$): relata o grau de incerteza da distribuição de retornos do portfólio, isto é, o quão incerto estamos sobre os retornos futuros. Em termos mais precisos, refere-se ao desvio em torno da média. Ressaltamos, no entanto, que a volatilidade também carrega as variações positivas (ganhos) do portfóli que, para muitos, não são consideradas como risco. Portanto, métricas com uma ênfase maior sobre as variações negativas (perdas) carregam efetivamente uma melhor interpreção sobre o risco. Também há o fato da distribuição de retornos raramente ser normal (ver próxima seção), o que pode nos levar a estimativas incorretas sobre risco.\n",
    "\n",
    "- *Downside risk*: relata o grau de incerteza da distribuição de retornos **negativos** do portfólio, isto é, o quão incerto estamos sobre as perdas futuras. Por exemplo, dados os retornos dos últimos 10 anos de um portfólio como: 0.1, 0.06, -0.12, 0.01, -0.08, -0.03, 0.08, 0.07, -0.09 e -0.07. A incerteza sobre todo o conjunto é $\\sigma = 0.0769$ , enquanto o downside risk (considerando apenas os retornos negativos) é $\\sigma = 0.0327$ . Podemos entender este resultado da seguinte forma. 42.52% de toda a incerteza advém de retornos negativos e, consequentemente, 57.48% de retornos positivos.\n",
    "\n",
    "- *Drawdown*: expressa a magnitude da queda de um ativo/portfólio em relação à cotação máxima, assim informando a instabilidade do mesmo, de modo que um ativo/portfólio com maior (menor) drawdown indica maior (menor) instabilidade. Este indicador é muito importante ao analisarmos o tempo esperado de recuperação de um ativo/portfólio após a queda (drawdown) de seu valor. Por exemplo, dado um drawdown de 93% (caso extremo), o investidor necessita de uma alta de $1 / (1 - 0.93) \\times 100 \\% = 1429 \\% $ para recuperar o capital. Aderindo indicadores de crescimento ao drawdown, é possível então estimar o tempo necessário para reaver o capital.\n",
    "\n",
    "#### VaR e CVaR (Histórico)\n",
    "- *Value at Risk* (VaR): o quanto podemos esperar de perda em um portfólio dado um período de tempo e um intervalo de confiança. Por exemplo, considere uma distribuição normal para nossos retornos, de média $\\mu = 1$ e desvio padrão $\\sigma = 1$ . Dado um período de tempo de um ano e um intervalo de confiança de 95%, obtemos $\\text{VaR}_{95} = -0.65 \\%$ , informando-nos que nossas perdas podem ser maiores que 0.65 % para além do intervalo de confiança. Este procedimento, cálculo do VaR a partir de uma distribuição normal, é conhecido como VaR paramétrico. Também temos o VaR histórico, onde analisamos diretamente a distribuição histórica dos retornos: para obtermos o $\\text{VaR}_{95}$ para um período de 100 dias, coletamos os retornos dos últimos 100 dias e selecionamos o quinto menor retorno. Podemos ver, portanto, que o VaR nada mais é que um quantil sobre a probabilidade de perdas do portfólio. Apesar de ser uma métrica facilmente calculada e não haver nenhuma pressuposição sobre a forma da distribuição neste caso, o VaR histórico é muito sensível ao período considerado e aos dados históricos.\n",
    "\n",
    "- *Conditional Value at Risk* (CVaR): especifica, em média, a expectativa de perda do portfólio dado que estamos além do intervalo de confiança. No caso do $\\text{VaR}_{95} = -0.65 \\%$ , há 5% de chances de perdermos 0.65% do nosso capital em um ano. Se agora $\\text{CVaR}_{95} = 4.5 \\%$ , por exemplo, significa que nos 5% dos piores retornos, nossa média de perdas será de 4.5%.\n",
    "\n",
    "- $\\beta$ : medida de risco sistemático (inerente ao mercado), indicando o risco adicional que o investidor assume---no caso, com o ibovespa.\n",
    "    1. $\\beta = 1$ : indica que a volatilidade do ativo/portfólio está altamente correlacionada com a do mercado (ibvp);\n",
    "    2. $\\beta < (>) \\ 1$ : indica que a volatilidade do ativo/portfólio é menor (maior) que a do mercado. Considerando que seja um ativo, sua inclusão no portfólio torna-o menos (mais) volátil;\n",
    "    3. $\\beta < 0$ : indica que o ativo/portfólio está inversamente correlacionado ao mercado.\n",
    "\n",
    "### Métricas Referentes à Forma - Desvios da Normalidade\n",
    "- A distribuição de retornos de um ativo raramente admite uma distribuição normal (Gaussiana). A partir disso, métricas como o desvio padrão (volatilidade), para distribuições não-normais, pode nos dar um expectativa de risco incorreta, pois os efeitos de cauda (valores extremos) são mitigados.\n",
    "- *Skewness*: informa o grau de assimetria, positiva ou negativa, da distribuição, tendo como referência a simetria de uma distribuição normal. Uma distribuição assimétrica positiva (negativa) possui um número maior de outliers à direita (esquerda) e também é caracterizada por ter média > (<) mediana > (<) moda.\n",
    "- *Curtose*: informa o quão concentrados os valores são (vulgarmente conhecido como grau de achatamento). Pode ser leptocúrtica, sendo mais centrada que a distribuição normal, ou platicúrtica, sendo menos concentrada (mais achatada). A primeira possui caudas mais alongadas que a normal e, em termos de portfólio, significa que este carrega um risco maior que aquele cujas retornos estão distribuídos de forma normal. Dado que esses conceitos referem-se à distribuição normal, que possui curtose igual a 3, distribuições leptocúrticas (platicúrticas) possuem curtose > (<) 3. É conveniente considerarmos a quantidade **excesso de curtose** como curtose $-$ 3. Desta forma, leptocúrticas (platicúrticas) possuem excesso de curtose > (<) 0.\n",
    "\n",
    "<ins>Distribuições de retornos leptocúrticas e que apresentam skewness negativa são consideradas mais arriscadas, pois possuem uma maior probabilidade de retornos extremos e negativos.</ins>\n",
    "\n",
    "#### VaR e CVaR Paramétricos\n",
    "- *Parametric Gaussian*: pressupondo que a distribuição de retornos é normal, considera o $\\alpha$-quantile $Z_\\alpha$ da distribuição: $$\\int_{-\\infty}^{Z_\\alpha} \\frac{1}{\\sqrt{2 \\pi \\sigma^2}} \\exp \\left(- \\frac{x^2}{2\\sigma^2} \\right) \\text{d} x = \\alpha,$$ tal que $\\alpha$ corresponde à probabilidade de se obter um valor abaixo de $Z_\\alpha$. Ex: se $Z_\\alpha = -1.65$, há uma chance de 5% de obtermos um valor abaixo deste e, sendo assim, $\\text{VaR}(1 - \\alpha = 95 \\%) = - (\\mu + Z_\\alpha \\sigma),$ onde $\\mu$ é a média dos retornos. Problema: como vimos, raramente as distribuições são normais.\n",
    "- *Semi-Parametric (Cornish-Fisher)*: realiza correções de forma da distribuição (como skewness e curtose) no cálculo de $Z_\\alpha$: $$\\bar{Z}_\\alpha = Z_\\alpha + \\frac{1}{6} S \\left[(Z_\\alpha^2 - 1) - \\frac{1}{6} (2Z_\\alpha^3 - 5Z_\\alpha) S \\right] + \\frac{1}{24} (Z_\\alpha^3 - 3Z_\\alpha)(K - 3).$$\n",
    "\n",
    "### Correlações\n",
    "- informa a influência de um ativo sobre outro, isto é, ativos altamente correlacionados são propensos a seguir a mesma tendência de variações: dado que o preço de um subiu, a tendência do outro será de subir. A tendência do outro seguir a variação do um dá-se pela intensidade de correlação entre eles. Ademais, esta ainda pode ser negativa, de modo que caso uma suba, a outra tenderá a descer. Um portfólio com ativos muito correlacionados entre si, em geral, não é favorável ao investidor, pois caso um ativo sofra uma queda muito abrupta, todos tenderão a segui-lo."
   ]
  }
 ],
 "metadata": {
  "language_info": {
   "name": "python"
  },
  "orig_nbformat": 4
 },
 "nbformat": 4,
 "nbformat_minor": 2
}
